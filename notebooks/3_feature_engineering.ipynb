{
 "cells": [
  {
   "cell_type": "markdown",
   "metadata": {},
   "source": [
    "Configuração Inicial"
   ]
  },
  {
   "cell_type": "code",
   "execution_count": 1,
   "metadata": {},
   "outputs": [],
   "source": [
    "import findspark\n",
    "findspark.init()\n",
    "findspark.find()\n",
    "\n",
    "from pyspark.sql import SparkSession\n",
    "from pyspark.sql.functions import col, when, udf\n",
    "from pyspark.sql.types import IntegerType\n",
    "from pyspark.ml.feature import StringIndexer, OneHotEncoder, VectorAssembler, StandardScaler\n",
    "\n",
    "# Inicialização da sessão Spark\n",
    "spark = SparkSession\\\n",
    "        .builder\\\n",
    "        .appName(\"Projeto_AJP\")\\\n",
    "        .master(\"local[*]\")\\\n",
    "        .config(\"spark.executor.memory\", \"8g\")\\\n",
    "        .config(\"spark.driver.memory\", \"8g\")\\\n",
    "        .config(\"spark.driver.maxResultSize\", \"1g\")\\\n",
    "        .config(\"spark.memory.offHeap.enabled\", False)\\\n",
    "        .enableHiveSupport()\\\n",
    "        .getOrCreate()"
   ]
  },
  {
   "cell_type": "markdown",
   "metadata": {},
   "source": [
    "Carregar Dados"
   ]
  },
  {
   "cell_type": "code",
   "execution_count": 2,
   "metadata": {},
   "outputs": [],
   "source": [
    "# Carregamento dos dados pré-processados\n",
    "flights = spark.read.parquet(\"../data/processed/flights_cleaned.parquet\")"
   ]
  },
  {
   "cell_type": "markdown",
   "metadata": {},
   "source": [
    "Criar Variável Alvo"
   ]
  },
  {
   "cell_type": "code",
   "execution_count": 4,
   "metadata": {},
   "outputs": [],
   "source": [
    "# Criar coluna binária para indicar atraso na partida (1 se atraso > 0, caso contrário 0)\n",
    "flights = flights.withColumn('IsDelayed', when(col('DepDelayMinutes') > 0, 1).otherwise(0))"
   ]
  },
  {
   "cell_type": "markdown",
   "metadata": {},
   "source": [
    "Retirar Registos de Voos Cancelados ou Desviados"
   ]
  },
  {
   "cell_type": "code",
   "execution_count": 6,
   "metadata": {},
   "outputs": [],
   "source": [
    "# Filtrar voos cancelados ou desviados\n",
    "flights = flights.filter((col('Cancelled') == 0) & (col('Diverted') == 0))\n",
    "\n",
    "# Remover colunas que não serão mais necessárias\n",
    "flights = flights.drop('Cancelled', 'Diverted', 'DepDelayMinutes')"
   ]
  },
  {
   "cell_type": "markdown",
   "metadata": {},
   "source": [
    "Indexação e Codificação"
   ]
  },
  {
   "cell_type": "code",
   "execution_count": 8,
   "metadata": {},
   "outputs": [],
   "source": [
    "# Indexar colunas categóricas\n",
    "categorical_cols = ['Airline', 'Origin', 'Dest']\n",
    "indexers = [StringIndexer(inputCol=col, outputCol=col+\"_Index\") for col in categorical_cols]"
   ]
  },
  {
   "cell_type": "code",
   "execution_count": 9,
   "metadata": {},
   "outputs": [],
   "source": [
    "# OneHotEncoding para colunas categóricas indexadas\n",
    "encoders = [OneHotEncoder(inputCol=col+\"_Index\", outputCol=col+\"_OHE\") for col in categorical_cols]"
   ]
  },
  {
   "cell_type": "code",
   "execution_count": 10,
   "metadata": {},
   "outputs": [],
   "source": [
    "# Construir o vetor de características\n",
    "assembler = VectorAssembler(inputCols=[\n",
    "    'Year', 'Month', 'DayofMonth', 'DayOfWeek', 'Distance',\n",
    "    'CRSDepTime', 'Airline_OHE', 'Origin_OHE', 'Dest_OHE'], outputCol='features')"
   ]
  },
  {
   "cell_type": "code",
   "execution_count": 11,
   "metadata": {},
   "outputs": [],
   "source": [
    "# Normalização das características\n",
    "scaler = StandardScaler(inputCol='features', outputCol='scaledFeatures')"
   ]
  },
  {
   "cell_type": "code",
   "execution_count": 12,
   "metadata": {},
   "outputs": [],
   "source": [
    "# Pipeline de transformação\n",
    "from pyspark.ml import Pipeline\n",
    "pipeline = Pipeline(stages=indexers + encoders + [assembler, scaler])"
   ]
  },
  {
   "cell_type": "code",
   "execution_count": 13,
   "metadata": {},
   "outputs": [],
   "source": [
    "# Ajustar e transformar os dados\n",
    "flights_transformed = pipeline.fit(flights).transform(flights)"
   ]
  },
  {
   "cell_type": "markdown",
   "metadata": {},
   "source": [
    "Transformação do Dataframe final"
   ]
  },
  {
   "cell_type": "code",
   "execution_count": 14,
   "metadata": {},
   "outputs": [],
   "source": [
    "# Selecionar apenas as colunas necessárias para o modelo\n",
    "flights_transformed = flights_transformed.select('scaledFeatures', 'IsDelayed')"
   ]
  },
  {
   "cell_type": "code",
   "execution_count": 15,
   "metadata": {},
   "outputs": [
    {
     "data": {
      "text/plain": [
       "28346578"
      ]
     },
     "execution_count": 15,
     "metadata": {},
     "output_type": "execute_result"
    }
   ],
   "source": [
    "flights_transformed.count()"
   ]
  },
  {
   "cell_type": "markdown",
   "metadata": {},
   "source": [
    "Salvar Dados"
   ]
  },
  {
   "cell_type": "code",
   "execution_count": 16,
   "metadata": {},
   "outputs": [
    {
     "name": "stdout",
     "output_type": "stream",
     "text": [
      "Feature Engineering completa e dados salvos.\n"
     ]
    }
   ],
   "source": [
    "# Salvar os dados transformados em formato Parquet\n",
    "flights_transformed.write.mode(\"overwrite\").parquet(\"../data/processed/flights_features.parquet\")\n",
    "\n",
    "print(\"Feature Engineering completa e dados salvos.\")"
   ]
  },
  {
   "cell_type": "markdown",
   "metadata": {},
   "source": [
    "Encerrar Sessão Spark"
   ]
  },
  {
   "cell_type": "code",
   "execution_count": 17,
   "metadata": {},
   "outputs": [],
   "source": [
    "spark.stop()"
   ]
  }
 ],
 "metadata": {
  "kernelspec": {
   "display_name": "pyspark_env",
   "language": "python",
   "name": "python3"
  },
  "language_info": {
   "codemirror_mode": {
    "name": "ipython",
    "version": 3
   },
   "file_extension": ".py",
   "mimetype": "text/x-python",
   "name": "python",
   "nbconvert_exporter": "python",
   "pygments_lexer": "ipython3",
   "version": "3.12.2"
  }
 },
 "nbformat": 4,
 "nbformat_minor": 2
}
