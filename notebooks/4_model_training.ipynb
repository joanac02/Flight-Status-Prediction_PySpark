{
 "cells": [
  {
   "cell_type": "markdown",
   "metadata": {},
   "source": [
    "Configurações Iniciais e Carregamento dos Dados"
   ]
  },
  {
   "cell_type": "code",
   "execution_count": 1,
   "metadata": {},
   "outputs": [],
   "source": [
    "import findspark\n",
    "findspark.init()\n",
    "findspark.find()\n",
    "\n",
    "from pyspark.sql import SparkSession\n",
    "from pyspark.ml.classification import LogisticRegression, DecisionTreeClassifier, RandomForestClassifier, GBTClassifier\n",
    "from pyspark.sql.functions import col\n",
    "\n",
    "# Inicialização da sessão Spark\n",
    "spark = SparkSession\\\n",
    "        .builder\\\n",
    "        .appName(\"Projeto_AJP\")\\\n",
    "        .master(\"local[*]\")\\\n",
    "        .config(\"spark.executor.memory\", \"8g\")\\\n",
    "        .config(\"spark.driver.memory\", \"8g\")\\\n",
    "        .config(\"spark.driver.maxResultSize\", \"1g\")\\\n",
    "        .config(\"spark.memory.offHeap.enabled\", False)\\\n",
    "        .enableHiveSupport()\\\n",
    "        .getOrCreate()"
   ]
  },
  {
   "cell_type": "code",
   "execution_count": 2,
   "metadata": {},
   "outputs": [
    {
     "name": "stdout",
     "output_type": "stream",
     "text": [
      "+--------------------+---------+\n",
      "|      scaledFeatures|IsDelayed|\n",
      "+--------------------+---------+\n",
      "|(807,[0,1,2,3,4,5...|        1|\n",
      "|(807,[0,1,2,3,4,5...|        0|\n",
      "|(807,[0,1,2,3,4,5...|        0|\n",
      "|(807,[0,1,2,3,4,5...|        0|\n",
      "|(807,[0,1,2,3,4,5...|        0|\n",
      "+--------------------+---------+\n",
      "only showing top 5 rows\n",
      "\n"
     ]
    }
   ],
   "source": [
    "# Carregar os dados transformados\n",
    "flights = spark.read.parquet(\"../data/processed/flights_features.parquet\")\n",
    "\n",
    "# Verificar os dados carregados\n",
    "flights.show(5)"
   ]
  },
  {
   "cell_type": "markdown",
   "metadata": {},
   "source": [
    "Separar os Dados em Treinamento e Teste"
   ]
  },
  {
   "cell_type": "code",
   "execution_count": 3,
   "metadata": {},
   "outputs": [
    {
     "name": "stdout",
     "output_type": "stream",
     "text": [
      "Train data count:  22678840\n",
      "Test data count:  5667738\n"
     ]
    }
   ],
   "source": [
    "# Dividir os dados em 80% para treinamento e 20% para teste\n",
    "train_data, test_data = flights.randomSplit([0.8, 0.2], seed=1234)\n",
    "\n",
    "# Verificar as divisões\n",
    "print(\"Train data count: \", train_data.count())\n",
    "print(\"Test data count: \", test_data.count())\n",
    "\n",
    "# Salvar dados teste para posterior avaliação\n",
    "test_data.write.mode(\"overwrite\").parquet(\"../data/processed/test_data.parquet\")"
   ]
  },
  {
   "cell_type": "markdown",
   "metadata": {},
   "source": [
    "Balanceamento dos Dados"
   ]
  },
  {
   "cell_type": "code",
   "execution_count": 4,
   "metadata": {},
   "outputs": [],
   "source": [
    "# Contagem de exemplos em cada classe\n",
    "class_counts = train_data.groupBy('IsDelayed').count().collect()\n",
    "minority_class_count = min(class_counts, key=lambda x: x['count'])['count']\n",
    "majority_class_count = max(class_counts, key=lambda x: x['count'])['count']"
   ]
  },
  {
   "cell_type": "code",
   "execution_count": 5,
   "metadata": {},
   "outputs": [
    {
     "name": "stdout",
     "output_type": "stream",
     "text": [
      "7313754\n"
     ]
    }
   ],
   "source": [
    "print(minority_class_count)"
   ]
  },
  {
   "cell_type": "code",
   "execution_count": 6,
   "metadata": {},
   "outputs": [
    {
     "name": "stdout",
     "output_type": "stream",
     "text": [
      "15365086\n"
     ]
    }
   ],
   "source": [
    "print(majority_class_count)"
   ]
  },
  {
   "cell_type": "code",
   "execution_count": 7,
   "metadata": {},
   "outputs": [],
   "source": [
    "# Calcular a taxa de undersampling\n",
    "undersample_ratio = minority_class_count / majority_class_count"
   ]
  },
  {
   "cell_type": "code",
   "execution_count": 8,
   "metadata": {},
   "outputs": [
    {
     "name": "stdout",
     "output_type": "stream",
     "text": [
      "14627193\n"
     ]
    }
   ],
   "source": [
    "# Aplicar undersampling à classe majoritária\n",
    "undersampled_majority = train_data.filter(col('IsDelayed') == 0).sample(False, undersample_ratio, seed=1234)\n",
    "\n",
    "# Combinar com a classe minoritária\n",
    "balanced_train_data = train_data.filter(col('IsDelayed') == 1).unionAll(undersampled_majority)\n",
    "\n",
    "print(balanced_train_data.count())"
   ]
  },
  {
   "cell_type": "code",
   "execution_count": 10,
   "metadata": {},
   "outputs": [
    {
     "name": "stdout",
     "output_type": "stream",
     "text": [
      "0.9999569304627965\n"
     ]
    }
   ],
   "source": [
    "# Contagem de exemplos em cada classe\n",
    "class_counts_balanced = balanced_train_data.groupBy('IsDelayed').count().collect()\n",
    "minority_class_count_balanced = min(class_counts_balanced, key=lambda x: x['count'])['count']\n",
    "majority_class_count_balanced = max(class_counts_balanced, key=lambda x: x['count'])['count']\n",
    "\n",
    "# Calcular a taxa de undersampling\n",
    "undersample_ratio_balanced = minority_class_count_balanced / majority_class_count_balanced\n",
    "\n",
    "print(undersample_ratio_balanced)"
   ]
  },
  {
   "cell_type": "markdown",
   "metadata": {},
   "source": [
    "Definição e Treinamento dos Modelos"
   ]
  },
  {
   "cell_type": "code",
   "execution_count": 11,
   "metadata": {},
   "outputs": [],
   "source": [
    "##REGRESSÃO LOGISTICA\n",
    "\n",
    "# Definir o modelo\n",
    "lr = LogisticRegression(featuresCol='scaledFeatures', labelCol='IsDelayed')\n",
    "\n",
    "# Treinar o modelo\n",
    "lr_model = lr.fit(balanced_train_data)\n",
    "\n",
    "# Gravar o modelo\n",
    "lr_model.write().overwrite().save(\"../models/logistic_regression_model\")"
   ]
  },
  {
   "cell_type": "code",
   "execution_count": 12,
   "metadata": {},
   "outputs": [],
   "source": [
    "##ÁRVORE DE DECISÃO\n",
    "\n",
    "dt = DecisionTreeClassifier(featuresCol='scaledFeatures', labelCol='IsDelayed')\n",
    "\n",
    "dt_model = dt.fit(balanced_train_data)\n",
    "\n",
    "dt_model.write().overwrite().save(\"../models/decision_tree_model\")"
   ]
  },
  {
   "cell_type": "code",
   "execution_count": 13,
   "metadata": {},
   "outputs": [],
   "source": [
    "##RANDOM FOREST\n",
    "\n",
    "rf = RandomForestClassifier(featuresCol='scaledFeatures', labelCol='IsDelayed')\n",
    "\n",
    "rf_model = rf.fit(balanced_train_data)\n",
    "\n",
    "rf_model.write().overwrite().save(\"../models/random_forest_model\")"
   ]
  },
  {
   "cell_type": "markdown",
   "metadata": {},
   "source": [
    "Encerrar Sessão"
   ]
  },
  {
   "cell_type": "code",
   "execution_count": 14,
   "metadata": {},
   "outputs": [],
   "source": [
    "spark.stop()"
   ]
  }
 ],
 "metadata": {
  "kernelspec": {
   "display_name": "pyspark_env",
   "language": "python",
   "name": "python3"
  },
  "language_info": {
   "codemirror_mode": {
    "name": "ipython",
    "version": 3
   },
   "file_extension": ".py",
   "mimetype": "text/x-python",
   "name": "python",
   "nbconvert_exporter": "python",
   "pygments_lexer": "ipython3",
   "version": "3.12.2"
  }
 },
 "nbformat": 4,
 "nbformat_minor": 2
}
