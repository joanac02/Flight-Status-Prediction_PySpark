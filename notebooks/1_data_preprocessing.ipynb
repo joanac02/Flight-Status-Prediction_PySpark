{
 "cells": [
  {
   "cell_type": "markdown",
   "metadata": {},
   "source": [
    "Configurações Iniciais"
   ]
  },
  {
   "cell_type": "code",
   "execution_count": 6,
   "metadata": {},
   "outputs": [],
   "source": [
    "import findspark\n",
    "\n",
    "# Inicializa o findspark para encontrar a instalação do Spark\n",
    "findspark.init()\n",
    "\n",
    "# Verifica o caminho da instalação do Spark\n",
    "findspark.find()\n",
    "\n",
    "# Importa PySpark\n",
    "import pyspark\n",
    "\n",
    "# Importa a classe SparkSession do módulo pyspark.sql\n",
    "from pyspark.sql import SparkSession\n",
    "\n",
    "# Cria uma nova sessão Spark\n",
    "spark = SparkSession\\\n",
    "        .builder\\\n",
    "        .appName(\"Projeto_AJP\")\\\n",
    "        \n",
    "        # Configura o modo de execução local utilizando todos os núcleos disponíveis\n",
    "        .master(\"local[*]\")\\\n",
    "        \n",
    "        # Configura a memória do executor Spark (8 GB)\n",
    "        .config(\"spark.executor.memory\", \"8g\")\\\n",
    "        \n",
    "        # Configura a memória do driver Spark (8 GB)\n",
    "        .config(\"spark.driver.memory\", \"8g\")\\\n",
    "        \n",
    "        # Configura o tamanho máximo do resultado do driver (1 GB)\n",
    "        .config(\"spark.driver.maxResultSize\", \"1g\")\\\n",
    "        \n",
    "        # Desabilita o uso de memória off-heap\n",
    "        .config(\"spark.memory.offHeap.enabled\", False)\\  \n",
    "\n",
    "        # Habilita suporte a Hive\n",
    "        .enableHiveSupport()\\  \n",
    "        .getOrCreate()\n"
   ]
  },
  {
   "cell_type": "markdown",
   "metadata": {},
   "source": [
    "Carregar Dados"
   ]
  },
  {
   "cell_type": "code",
   "execution_count": 7,
   "metadata": {},
   "outputs": [],
   "source": [
    "# Ler os conjuntos de dados de voos de diferentes anos\n",
    "flights_2022 = spark.read.csv(\"../data/raw/Combined_Flights_2022.csv\", header=True, inferSchema=True)\n",
    "flights_2021 = spark.read.csv(\"../data/raw/Combined_Flights_2021.csv\", header=True, inferSchema=True)\n",
    "flights_2020 = spark.read.csv(\"../data/raw/Combined_Flights_2020.csv\", header=True, inferSchema=True)\n",
    "flights_2019 = spark.read.csv(\"../data/raw/Combined_Flights_2019.csv\", header=True, inferSchema=True)\n",
    "flights_2018 = spark.read.csv(\"../data/raw/Combined_Flights_2018.csv\", header=True, inferSchema=True)\n",
    "\n",
    "# Combinar todos os conjuntos de dados de voos num único DataFrame\n",
    "all_flights_raw = flights_2022.union(flights_2021).union(flights_2020).union(flights_2019).union(flights_2018)"
   ]
  },
  {
   "cell_type": "code",
   "execution_count": 8,
   "metadata": {},
   "outputs": [
    {
     "name": "stdout",
     "output_type": "stream",
     "text": [
      "Número total de observações em 2018: 5689512\n",
      "Número total de observações em 2019: 8091684\n",
      "Número total de observações em 2020: 5022397\n",
      "Número total de observações em 2021: 6311871\n",
      "Número total de observações em 2022: 4078318\n",
      "Número total de observações: 29193782\n"
     ]
    }
   ],
   "source": [
    "#Verificar se não se perderam dados\n",
    "\n",
    "print(\"Número total de observações em 2018:\", flights_2018.count())\n",
    "print(\"Número total de observações em 2019:\", flights_2019.count())\n",
    "print(\"Número total de observações em 2020:\", flights_2020.count())\n",
    "print(\"Número total de observações em 2021:\", flights_2021.count())\n",
    "print(\"Número total de observações em 2022:\", flights_2022.count())\n",
    "print(\"Número total de observações:\", all_flights_raw.count())"
   ]
  },
  {
   "cell_type": "markdown",
   "metadata": {},
   "source": [
    "Configuração das Variáveis"
   ]
  },
  {
   "cell_type": "code",
   "execution_count": 9,
   "metadata": {},
   "outputs": [
    {
     "name": "stdout",
     "output_type": "stream",
     "text": [
      "root\n",
      " |-- FlightDate: date (nullable = true)\n",
      " |-- Airline: string (nullable = true)\n",
      " |-- Origin: string (nullable = true)\n",
      " |-- Dest: string (nullable = true)\n",
      " |-- Cancelled: boolean (nullable = true)\n",
      " |-- Diverted: boolean (nullable = true)\n",
      " |-- CRSDepTime: integer (nullable = true)\n",
      " |-- DepTime: double (nullable = true)\n",
      " |-- DepDelayMinutes: double (nullable = true)\n",
      " |-- DepDelay: double (nullable = true)\n",
      " |-- ArrTime: double (nullable = true)\n",
      " |-- ArrDelayMinutes: double (nullable = true)\n",
      " |-- AirTime: double (nullable = true)\n",
      " |-- CRSElapsedTime: double (nullable = true)\n",
      " |-- ActualElapsedTime: double (nullable = true)\n",
      " |-- Distance: double (nullable = true)\n",
      " |-- Year: integer (nullable = true)\n",
      " |-- Quarter: integer (nullable = true)\n",
      " |-- Month: integer (nullable = true)\n",
      " |-- DayofMonth: integer (nullable = true)\n",
      " |-- DayOfWeek: integer (nullable = true)\n",
      " |-- Marketing_Airline_Network: string (nullable = true)\n",
      " |-- Operated_or_Branded_Code_Share_Partners: string (nullable = true)\n",
      " |-- DOT_ID_Marketing_Airline: integer (nullable = true)\n",
      " |-- IATA_Code_Marketing_Airline: string (nullable = true)\n",
      " |-- Flight_Number_Marketing_Airline: integer (nullable = true)\n",
      " |-- Operating_Airline: string (nullable = true)\n",
      " |-- DOT_ID_Operating_Airline: integer (nullable = true)\n",
      " |-- IATA_Code_Operating_Airline: string (nullable = true)\n",
      " |-- Tail_Number: string (nullable = true)\n",
      " |-- Flight_Number_Operating_Airline: integer (nullable = true)\n",
      " |-- OriginAirportID: integer (nullable = true)\n",
      " |-- OriginAirportSeqID: integer (nullable = true)\n",
      " |-- OriginCityMarketID: integer (nullable = true)\n",
      " |-- OriginCityName: string (nullable = true)\n",
      " |-- OriginState: string (nullable = true)\n",
      " |-- OriginStateFips: integer (nullable = true)\n",
      " |-- OriginStateName: string (nullable = true)\n",
      " |-- OriginWac: integer (nullable = true)\n",
      " |-- DestAirportID: integer (nullable = true)\n",
      " |-- DestAirportSeqID: integer (nullable = true)\n",
      " |-- DestCityMarketID: integer (nullable = true)\n",
      " |-- DestCityName: string (nullable = true)\n",
      " |-- DestState: string (nullable = true)\n",
      " |-- DestStateFips: integer (nullable = true)\n",
      " |-- DestStateName: string (nullable = true)\n",
      " |-- DestWac: integer (nullable = true)\n",
      " |-- DepDel15: double (nullable = true)\n",
      " |-- DepartureDelayGroups: double (nullable = true)\n",
      " |-- DepTimeBlk: string (nullable = true)\n",
      " |-- TaxiOut: double (nullable = true)\n",
      " |-- WheelsOff: double (nullable = true)\n",
      " |-- WheelsOn: double (nullable = true)\n",
      " |-- TaxiIn: double (nullable = true)\n",
      " |-- CRSArrTime: integer (nullable = true)\n",
      " |-- ArrDelay: double (nullable = true)\n",
      " |-- ArrDel15: double (nullable = true)\n",
      " |-- ArrivalDelayGroups: double (nullable = true)\n",
      " |-- ArrTimeBlk: string (nullable = true)\n",
      " |-- DistanceGroup: integer (nullable = true)\n",
      " |-- DivAirportLandings: double (nullable = true)\n",
      "\n",
      "-RECORD 0-------------------------------------------------------\n",
      " FlightDate                              | 2022-04-04           \n",
      " Airline                                 | Commutair Aka Cha... \n",
      " Origin                                  | GJT                  \n",
      " Dest                                    | DEN                  \n",
      " Cancelled                               | false                \n",
      " Diverted                                | false                \n",
      " CRSDepTime                              | 1133                 \n",
      " DepTime                                 | 1123.0               \n",
      " DepDelayMinutes                         | 0.0                  \n",
      " DepDelay                                | -10.0                \n",
      " ArrTime                                 | 1228.0               \n",
      " ArrDelayMinutes                         | 0.0                  \n",
      " AirTime                                 | 40.0                 \n",
      " CRSElapsedTime                          | 72.0                 \n",
      " ActualElapsedTime                       | 65.0                 \n",
      " Distance                                | 212.0                \n",
      " Year                                    | 2022                 \n",
      " Quarter                                 | 2                    \n",
      " Month                                   | 4                    \n",
      " DayofMonth                              | 4                    \n",
      " DayOfWeek                               | 1                    \n",
      " Marketing_Airline_Network               | UA                   \n",
      " Operated_or_Branded_Code_Share_Partners | UA_CODESHARE         \n",
      " DOT_ID_Marketing_Airline                | 19977                \n",
      " IATA_Code_Marketing_Airline             | UA                   \n",
      " Flight_Number_Marketing_Airline         | 4301                 \n",
      " Operating_Airline                       | C5                   \n",
      " DOT_ID_Operating_Airline                | 20445                \n",
      " IATA_Code_Operating_Airline             | C5                   \n",
      " Tail_Number                             | N21144               \n",
      " Flight_Number_Operating_Airline         | 4301                 \n",
      " OriginAirportID                         | 11921                \n",
      " OriginAirportSeqID                      | 1192102              \n",
      " OriginCityMarketID                      | 31921                \n",
      " OriginCityName                          | Grand Junction, CO   \n",
      " OriginState                             | CO                   \n",
      " OriginStateFips                         | 8                    \n",
      " OriginStateName                         | Colorado             \n",
      " OriginWac                               | 82                   \n",
      " DestAirportID                           | 11292                \n",
      " DestAirportSeqID                        | 1129202              \n",
      " DestCityMarketID                        | 30325                \n",
      " DestCityName                            | Denver, CO           \n",
      " DestState                               | CO                   \n",
      " DestStateFips                           | 8                    \n",
      " DestStateName                           | Colorado             \n",
      " DestWac                                 | 82                   \n",
      " DepDel15                                | 0.0                  \n",
      " DepartureDelayGroups                    | -1.0                 \n",
      " DepTimeBlk                              | 1100-1159            \n",
      " TaxiOut                                 | 17.0                 \n",
      " WheelsOff                               | 1140.0               \n",
      " WheelsOn                                | 1220.0               \n",
      " TaxiIn                                  | 8.0                  \n",
      " CRSArrTime                              | 1245                 \n",
      " ArrDelay                                | -17.0                \n",
      " ArrDel15                                | 0.0                  \n",
      " ArrivalDelayGroups                      | -2.0                 \n",
      " ArrTimeBlk                              | 1200-1259            \n",
      " DistanceGroup                           | 1                    \n",
      " DivAirportLandings                      | 0.0                  \n",
      "only showing top 1 row\n",
      "\n",
      "Número de colunas no DataFrame resultante: 61\n",
      "Número total de observações: 29193782\n"
     ]
    }
   ],
   "source": [
    "#Ver como estão definidas as variaveis do dataset\n",
    "\n",
    "all_flights_raw.printSchema()\n",
    "all_flights_raw.show(1, vertical=True)\n",
    "\n",
    "print(\"Número de colunas no DataFrame resultante:\", len(all_flights_raw.columns))\n",
    "print(\"Número total de observações:\", all_flights_raw.count())"
   ]
  },
  {
   "cell_type": "code",
   "execution_count": 10,
   "metadata": {},
   "outputs": [],
   "source": [
    "#Seleção de colunas a manter no Dataframe\n",
    "\n",
    "cols_to_keep = [\n",
    "    'Year',\n",
    "    'Month',\n",
    "    'DayofMonth',\n",
    "    'DayOfWeek',\n",
    "    'Airline',\n",
    "    'Origin',\n",
    "    'Dest',\n",
    "    'Distance',\n",
    "    'Cancelled',\n",
    "    'Diverted',\n",
    "    'CRSDepTime',\n",
    "    'DepTime',\n",
    "    'DepDelayMinutes'\n",
    "]"
   ]
  },
  {
   "cell_type": "code",
   "execution_count": 11,
   "metadata": {},
   "outputs": [],
   "source": [
    "all_flights = all_flights_raw.select(cols_to_keep)"
   ]
  },
  {
   "cell_type": "code",
   "execution_count": 12,
   "metadata": {},
   "outputs": [
    {
     "name": "stdout",
     "output_type": "stream",
     "text": [
      "-RECORD 0-------------------------------\n",
      " Year            | 2022                 \n",
      " Month           | 4                    \n",
      " DayofMonth      | 4                    \n",
      " DayOfWeek       | 1                    \n",
      " Airline         | Commutair Aka Cha... \n",
      " Origin          | GJT                  \n",
      " Dest            | DEN                  \n",
      " Distance        | 212.0                \n",
      " Cancelled       | false                \n",
      " Diverted        | false                \n",
      " CRSDepTime      | 1133                 \n",
      " DepTime         | 1123.0               \n",
      " DepDelayMinutes | 0.0                  \n",
      "only showing top 1 row\n",
      "\n"
     ]
    }
   ],
   "source": [
    "all_flights.show(1, vertical=True)"
   ]
  },
  {
   "cell_type": "code",
   "execution_count": 1,
   "metadata": {},
   "outputs": [],
   "source": [
    "#Configurar as variaveis para o tipo pretendido\n",
    "\n",
    "from pyspark.sql.functions import col\n",
    "\n",
    "all_flights = all_flights \\\n",
    "    .withColumn(\"Year\", col(\"Year\").cast(\"int\")) \\\n",
    "    .withColumn(\"Month\", col(\"Month\").cast(\"int\")) \\\n",
    "    .withColumn(\"DayofMonth\", col(\"DayofMonth\").cast(\"int\")) \\\n",
    "    .withColumn(\"DayOfWeek\", col(\"DayOfWeek\").cast(\"int\")) \\\n",
    "    .withColumn(\"Distance\", col(\"Distance\").cast(\"int\")) \\\n",
    "    .withColumn(\"Cancelled\", col(\"Cancelled\").cast(\"boolean\")) \\\n",
    "    .withColumn(\"Diverted\", col(\"Diverted\").cast(\"boolean\")) \\\n",
    "    .withColumn(\"CRSDepTime\", col(\"CRSDepTime\").cast(\"float\")) \\\n",
    "    .withColumn(\"DepTime\", col(\"DepTime\").cast(\"float\")) \\\n",
    "    .withColumn(\"DepDelayMinutes\", col(\"DepDelayMinutes\").cast(\"float\"))\n"
   ]
  },
  {
   "cell_type": "code",
   "execution_count": null,
   "metadata": {},
   "outputs": [
    {
     "name": "stdout",
     "output_type": "stream",
     "text": [
      "root\n",
      " |-- Year: integer (nullable = true)\n",
      " |-- Month: integer (nullable = true)\n",
      " |-- DayofMonth: integer (nullable = true)\n",
      " |-- DayOfWeek: integer (nullable = true)\n",
      " |-- Airline: string (nullable = true)\n",
      " |-- Origin: string (nullable = true)\n",
      " |-- Dest: string (nullable = true)\n",
      " |-- Distance: integer (nullable = true)\n",
      " |-- Cancelled: boolean (nullable = true)\n",
      " |-- Diverted: boolean (nullable = true)\n",
      " |-- CRSDepTime: float (nullable = true)\n",
      " |-- DepTime: float (nullable = true)\n",
      " |-- DepDelayMinutes: float (nullable = true)\n",
      "\n"
     ]
    }
   ],
   "source": [
    "all_flights.printSchema()"
   ]
  },
  {
   "cell_type": "markdown",
   "metadata": {},
   "source": [
    "Remoção de Duplicados e Nulos"
   ]
  },
  {
   "cell_type": "code",
   "execution_count": 16,
   "metadata": {},
   "outputs": [],
   "source": [
    "# Remoção de valores nulos\n",
    "all_flights_cleaned = all_flights.dropna()"
   ]
  },
  {
   "cell_type": "code",
   "execution_count": 17,
   "metadata": {},
   "outputs": [],
   "source": [
    "# Remoção de duplicados\n",
    "all_flights_cleaned = all_flights_cleaned.dropDuplicates()"
   ]
  },
  {
   "cell_type": "markdown",
   "metadata": {},
   "source": [
    "Criar Sample"
   ]
  },
  {
   "cell_type": "code",
   "execution_count": 18,
   "metadata": {},
   "outputs": [],
   "source": [
    "sample_flights = all_flights_cleaned.sample(fraction=0.01)"
   ]
  },
  {
   "cell_type": "markdown",
   "metadata": {},
   "source": [
    "Gravar Dados"
   ]
  },
  {
   "cell_type": "code",
   "execution_count": 19,
   "metadata": {},
   "outputs": [],
   "source": [
    "# Salvar dados pré-processados\n",
    "all_flights_cleaned.write.mode(\"overwrite\").parquet(\"../data/processed/flights_cleaned.parquet\")\n",
    "sample_flights.write.mode(\"overwrite\").parquet(\"../data/processed/flights_sample.parquet\")"
   ]
  },
  {
   "cell_type": "markdown",
   "metadata": {},
   "source": [
    "Encerrar Spark"
   ]
  },
  {
   "cell_type": "code",
   "execution_count": 20,
   "metadata": {},
   "outputs": [],
   "source": [
    "spark.stop()"
   ]
  }
 ],
 "metadata": {
  "kernelspec": {
   "display_name": "pyspark_env",
   "language": "python",
   "name": "python3"
  },
  "language_info": {
   "codemirror_mode": {
    "name": "ipython",
    "version": 3
   },
   "file_extension": ".py",
   "mimetype": "text/x-python",
   "name": "python",
   "nbconvert_exporter": "python",
   "pygments_lexer": "ipython3",
   "version": "3.12.2"
  }
 },
 "nbformat": 4,
 "nbformat_minor": 2
}
